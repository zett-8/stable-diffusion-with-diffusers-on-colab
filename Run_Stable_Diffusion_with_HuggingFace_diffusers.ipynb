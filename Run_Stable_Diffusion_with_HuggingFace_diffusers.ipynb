{
  "cells": [
    {
      "cell_type": "markdown",
      "source": [
        "Settings"
      ],
      "metadata": {
        "id": "pBuGHOt_eyBS"
      }
    },
    {
      "cell_type": "code",
      "source": [
        "use_half_precision_weight = True\n",
        "hugging_face_token = \"\""
      ],
      "metadata": {
        "id": "24f0ujHcYEgQ"
      },
      "execution_count": null,
      "outputs": []
    },
    {
      "cell_type": "markdown",
      "source": [
        "## Install dependencies"
      ],
      "metadata": {
        "id": "TS1XmKWXfCm7"
      }
    },
    {
      "cell_type": "code",
      "execution_count": null,
      "metadata": {
        "id": "9cBN3MNUXH1w"
      },
      "outputs": [],
      "source": [
        "!nvidia-smi\n",
        "\n",
        "!pip install diffusers==0.2.4 \n",
        "!pip install transformers scipy ftfy\n",
        "!pip install \"ipywidgets>=7,<8\""
      ]
    },
    {
      "cell_type": "markdown",
      "source": [
        "## Setup"
      ],
      "metadata": {
        "id": "MpiU6kx7fTZ8"
      }
    },
    {
      "cell_type": "code",
      "execution_count": null,
      "metadata": {
        "id": "zFJQZhqiYObH"
      },
      "outputs": [],
      "source": [
        "import os\n",
        "import torch\n",
        "from os import path\n",
        "from PIL import Image\n",
        "from torch import autocast\n",
        "from google.colab import output\n",
        "from diffusers import StableDiffusionPipeline\n",
        "from IPython.display import Image,display_jpeg\n",
        "\n",
        "output.enable_custom_widget_manager()\n",
        "\n",
        "model_id = \"CompVis/stable-diffusion-v1-4\"\n",
        "revision = \"fp16\"\n",
        "\n",
        "if use_half_precision_weight:\n",
        "  pipe = StableDiffusionPipeline.from_pretrained(model_id, revision=revision, torch_dtype=torch.float16, use_auth_token=hugging_face_token).to(\"cuda\")\n",
        "else:\n",
        "  pipe = StableDiffusionPipeline.from_pretrained(model_id, use_auth_token=hugging_face_token).to(\"cuda\")\n",
        "\n",
        "\n",
        "if not path.exists('outputs'):\n",
        "    os.mkdir('outputs')\n"
      ]
    },
    {
      "cell_type": "markdown",
      "source": [
        "## Custom functions"
      ],
      "metadata": {
        "id": "KCGKs_mUfYiz"
      }
    },
    {
      "cell_type": "code",
      "source": [
        "#pipe.safety_checker = lambda images, clip_input: (images, False)\n",
        "\n",
        "\n",
        "def generate(prompt, pipe, seed, steps, width, height):  \n",
        "  generator = torch.Generator(\"cuda\").manual_seed(seed)\n",
        "\n",
        "  if use_half_precision_weight:\n",
        "    with autocast(\"cuda\"):\n",
        "      image = pipe(prompt, num_inference_steps=steps, height=height, width=width, generator=generator)[\"sample\"][0]\n",
        "  else: \n",
        "    image = pipe(prompt, num_inference_steps=steps, height=height, width=width, generator=generator)[\"sample\"][0]\n",
        "\n",
        "  return image\n",
        "\n",
        "def save_image(image, used_prompt, used_seed):\n",
        "  dir =\"outputs/{}\".format('_'.join(used_prompt.split(' ')))\n",
        "  file_name = \"{}.jpg\".format(used_seed)\n",
        "  saving_path = \"{}/{}\".format(dir, file_name)\n",
        "\n",
        "  if not path.exists(dir):\n",
        "    os.mkdir(dir)\n",
        "\n",
        "  image.save(saving_path)\n",
        "\n",
        "  return saving_path"
      ],
      "metadata": {
        "id": "K_mIZ5w5VZoO"
      },
      "execution_count": null,
      "outputs": []
    },
    {
      "cell_type": "markdown",
      "source": [
        "## Run"
      ],
      "metadata": {
        "id": "V0Y0Nai0fg6b"
      }
    },
    {
      "cell_type": "code",
      "execution_count": null,
      "metadata": {
        "id": "nVym426xZzRp"
      },
      "outputs": [],
      "source": [
        "#@markdown With the same seed, the result will be the same\n",
        "seed    = 40   #@param {type:\"integer\"}\n",
        "\n",
        "#@markdown Image size. default: 512 x 512\n",
        "width   = 512   #@param {type:\"slider\", min: 512, max: 1088, step: 64}\n",
        "height  = 512   #@param {type:\"slider\", min: 512, max: 1088, step: 64}\n",
        "\n",
        "#@markdown The more steps the better image (but takes more recource) default: 50\n",
        "steps   = 50    #@param {type:\"integer\"}\n",
        "\n",
        "#@markdown Number of images you want to generate\n",
        "num     = 1     #@param {type:\"integer\"}\n",
        "\n",
        "#@markdown Prompt\n",
        "prompt = \"a photograph of an astronaut riding a horse\" #@param {type:\"string\"}\n",
        "\n",
        "\n",
        "print(\"generating: \\\"{}\\\"\".format(prompt))\n",
        "\n",
        "for i in range(0, num):\n",
        "  using_seed = seed + i\n",
        "  print(\"seed: {}\".format(using_seed))\n",
        "\n",
        "  image = generate(prompt=[prompt], pipe=pipe, seed=using_seed, steps=steps, width=width, height=height)\n",
        "  saved_path = save_image(image, prompt, using_seed)\n",
        "\n",
        "  display_jpeg(Image(saved_path))\n",
        "\n",
        "\n",
        "torch.cuda.empty_cache()"
      ]
    }
  ],
  "metadata": {
    "accelerator": "GPU",
    "colab": {
      "collapsed_sections": [
        "TS1XmKWXfCm7",
        "MpiU6kx7fTZ8",
        "KCGKs_mUfYiz"
      ],
      "name": "Run Stable Diffusion with HuggingFace diffusers",
      "provenance": [],
      "private_outputs": true
    },
    "gpuClass": "standard",
    "kernelspec": {
      "display_name": "Python 3",
      "name": "python3"
    },
    "language_info": {
      "name": "python"
    }
  },
  "nbformat": 4,
  "nbformat_minor": 0
}
